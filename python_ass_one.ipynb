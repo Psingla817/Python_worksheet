{
  "cells": [
    {
      "cell_type": "code",
      "execution_count": null,
      "metadata": {
        "id": "zwFnJsE6vjf8"
      },
      "outputs": [],
      "source": []
    },
    {
      "cell_type": "code",
      "execution_count": null,
      "metadata": {
        "colab": {
          "base_uri": "https://localhost:8080/"
        },
        "id": "gJr_9dXGpJ05",
        "outputId": "d2eb8c78-27de-4df8-bbe6-d032b33a6dd8"
      },
      "outputs": [
        {
          "name": "stdout",
          "output_type": "stream",
          "text": [
            "Twinkle,Twinkle, little star.\n",
            " How I wonder what you are! \n",
            " Up above the world so high,\n",
            " Like a diamond in the sky.\n",
            "\n"
          ]
        }
      ],
      "source": [
        "print(\"Twinkle,Twinkle, little star.\\n How I wonder what you are! \\n Up above the world so high,\\n Like a diamond in the sky.\\n\")\n"
      ]
    },
    {
      "cell_type": "code",
      "execution_count": null,
      "metadata": {
        "colab": {
          "base_uri": "https://localhost:8080/"
        },
        "id": "CYnoEG0ZDOqD",
        "outputId": "48aa269b-8e0f-428b-b522-c9a768851487"
      },
      "outputs": [
        {
          "name": "stdout",
          "output_type": "stream",
          "text": [
            "Enter your  first name:prachi\n",
            "Enter your last name: singla\n",
            "singla prachi\n"
          ]
        }
      ],
      "source": [
        "first_name = input(\"Enter your  first name:\")\n",
        "last_name = input(\"Enter your last name: \")\n",
        "print(last_name,first_name)\n"
      ]
    },
    {
      "cell_type": "code",
      "execution_count": null,
      "metadata": {
        "colab": {
          "base_uri": "https://localhost:8080/"
        },
        "id": "Z0NLMmSpDf-C",
        "outputId": "9ab25e7e-12ff-4a26-9037-3ac34d7dc911"
      },
      "outputs": [
        {
          "name": "stdout",
          "output_type": "stream",
          "text": [
            "Enter the radius : 5\n",
            "78.5\n"
          ]
        }
      ],
      "source": [
        "radius = int(input(\"Enter the radius : \"))\n",
        "area = 3.14*radius*radius\n",
        "print(area)"
      ]
    },
    {
      "cell_type": "code",
      "execution_count": null,
      "metadata": {
        "colab": {
          "base_uri": "https://localhost:8080/"
        },
        "id": "JPfRjhj8EJXB",
        "outputId": "ee61ebc5-7d5d-4d69-ed40-d989d8ccebfa"
      },
      "outputs": [
        {
          "name": "stdout",
          "output_type": "stream",
          "text": [
            "red\n",
            "black\n"
          ]
        }
      ],
      "source": [
        "color_list = [\"red\",\"blue\",\"yellow\",\"black\"]\n",
        "print(color_list[0])\n",
        "print(color_list[3])\n"
      ]
    },
    {
      "cell_type": "code",
      "execution_count": null,
      "metadata": {
        "colab": {
          "base_uri": "https://localhost:8080/"
        },
        "id": "AKoLYogcEfIk",
        "outputId": "ac57ca45-44b2-4987-e93e-b2b121d0bd36"
      },
      "outputs": [
        {
          "name": "stdout",
          "output_type": "stream",
          "text": [
            "Input an integer: 5\n",
            "615\n"
          ]
        }
      ],
      "source": [
        "a = int(input(\"Input an integer: \"))\n",
        "n1 = int(\"%s\" %(a))\n",
        "n2 = int(\"%s%s\" % (a,a))\n",
        "n3 = int(\"%s%s%s\" % (a, a,a))\n",
        "print(n1 + n2 + n3)\n",
        "\n",
        "\n"
      ]
    },
    {
      "cell_type": "code",
      "execution_count": null,
      "metadata": {
        "colab": {
          "base_uri": "https://localhost:8080/"
        },
        "id": "QMz7Fu_wKCH6",
        "outputId": "a60a5ee6-dd2b-4889-e774-199441db230f"
      },
      "outputs": [
        {
          "name": "stdout",
          "output_type": "stream",
          "text": [
            "enter the numbers7,23,5\n",
            "['7', '23', '5']\n"
          ]
        }
      ],
      "source": [
        "values=input(\"enter the numbers\")\n",
        "list=values.split(\",\")\n",
        "print(list)\n",
        "tuple = tuple(list)\n",
        "print(tuple)\n",
        "\n"
      ]
    },
    {
      "cell_type": "code",
      "execution_count": null,
      "metadata": {
        "colab": {
          "base_uri": "https://localhost:8080/"
        },
        "id": "OoyFpNZUkX6a",
        "outputId": "1b71c6be-b48a-42c4-e3d1-44568bf75596"
      },
      "outputs": [
        {
          "name": "stdout",
          "output_type": "stream",
          "text": [
            "enter the celcius value36\n",
            "96.8\n"
          ]
        }
      ],
      "source": [
        "cel=float(input(\"enter the celcius value\"))\n",
        "far=1.8*cel+32\n",
        "print(far)"
      ]
    },
    {
      "cell_type": "code",
      "execution_count": null,
      "metadata": {
        "colab": {
          "base_uri": "https://localhost:8080/"
        },
        "id": "pQmMQxtslEG9",
        "outputId": "22bacb5d-0a7a-4820-9fa2-b9f4cc88a97d"
      },
      "outputs": [
        {
          "name": "stdout",
          "output_type": "stream",
          "text": [
            "enter the number24\n",
            "even\n"
          ]
        }
      ],
      "source": [
        "num=int(input(\"enter the number\"))\n",
        "if(num % 2==0):\n",
        "  print(\"even\")\n",
        "else:\n",
        "    print(\"odd\")"
      ]
    },
    {
      "cell_type": "code",
      "execution_count": null,
      "metadata": {
        "colab": {
          "base_uri": "https://localhost:8080/"
        },
        "id": "ttLAKBjfj9aG",
        "outputId": "1d67cd74-6bc2-45cf-f6f2-007d62035ab9"
      },
      "outputs": [
        {
          "name": "stdout",
          "output_type": "stream",
          "text": [
            "enter the year2000\n",
            "leap year\n"
          ]
        }
      ],
      "source": [
        "year=int(input(\"enter the year\"))\n",
        "if((year%4==0) and (year%100!=0)):print(\"leap year\")\n",
        "elif((year%400==0) and (year%100==0)):print(\"leap year\")\n",
        "else:print(\"not a leap year\")"
      ]
    },
    {
      "cell_type": "code",
      "execution_count": null,
      "metadata": {
        "colab": {
          "base_uri": "https://localhost:8080/"
        },
        "id": "JzQBk61arJgA",
        "outputId": "37a0b412-c5b6-4840-d21e-ac441ceddc75"
      },
      "outputs": [
        {
          "name": "stdout",
          "output_type": "stream",
          "text": [
            "x1:4\n",
            "y1:6\n",
            "x2:5\n",
            "y2:9\n",
            "3.1622776601683795\n"
          ]
        }
      ],
      "source": [
        "x1,y1 = int(input(\"x1:\")), int(input(\"y1:\"))\n",
        "x2,y2 = int(input(\"x2:\")), int(input(\"y2:\"))\n",
        "distance = ((x2 - x1)**2 + (y2 - y1)**2)**0.5\n",
        "print(distance)"
      ]
    },
    {
      "cell_type": "code",
      "execution_count": null,
      "metadata": {
        "colab": {
          "base_uri": "https://localhost:8080/"
        },
        "id": "aoYHPsfvs55j",
        "outputId": "b9fb35e7-d3a0-489b-8e20-694b2e85ea16"
      },
      "outputs": [
        {
          "name": "stdout",
          "output_type": "stream",
          "text": [
            "principle: 1000\n",
            "rate: 5\n",
            "time: 2\n",
            "36000\n"
          ]
        }
      ],
      "source": [
        "principle ,rate ,time  = int(input(\"principle: \")), int(input(\"rate: \")), int(input(\"time: \"))\n",
        "CI = principle*((1+rate)**time)\n",
        "print(CI)"
      ]
    },
    {
      "cell_type": "code",
      "execution_count": null,
      "metadata": {
        "colab": {
          "base_uri": "https://localhost:8080/"
        },
        "id": "WMTT2Ybsr93T",
        "outputId": "6e2cd31f-c212-41f6-fe4e-ef740a8e2722"
      },
      "outputs": [
        {
          "name": "stdout",
          "output_type": "stream",
          "text": [
            "a1:60\n",
            "a2:70\n",
            "a3:50\n",
            "This is a triangle.\n"
          ]
        }
      ],
      "source": [
        "a1, a2, a3 = float(input(\"a1:\")),float(input(\"a2:\")),float(input(\"a3:\"))\n",
        "sum = a1 + a2 + a3\n",
        "if (sum == 180):print(\"This is a triangle.\")\n",
        "else : print(\"This is not a triangle.\")"
      ]
    },
    {
      "cell_type": "code",
      "execution_count": null,
      "metadata": {
        "colab": {
          "base_uri": "https://localhost:8080/"
        },
        "id": "F5Xyxvcytj_u",
        "outputId": "2d161160-889d-496e-cc13-bf8931704f94"
      },
      "outputs": [
        {
          "name": "stdout",
          "output_type": "stream",
          "text": [
            "Enter the number : 5\n",
            "Prime\n"
          ]
        }
      ],
      "source": [
        "N = int(input(\"Enter the number : \"))\n",
        "c = 0\n",
        "for i in range (2,N):\n",
        "  if(N % i == 0):\n",
        "    c=c+1\n",
        "  if c > 0:print(\"Not Prime\")\n",
        "else:print(\"Prime\")\n",
        "\n"
      ]
    },
    {
      "cell_type": "code",
      "execution_count": null,
      "metadata": {
        "colab": {
          "base_uri": "https://localhost:8080/"
        },
        "id": "hZA7z-7lwrzQ",
        "outputId": "8d1fe947-5c92-42ab-f3fc-1b738ebf5683"
      },
      "outputs": [
        {
          "name": "stdout",
          "output_type": "stream",
          "text": [
            "enter the number5\n",
            "55\n"
          ]
        }
      ],
      "source": [
        "n=int(input(\"enter the number\"))\n",
        "sum=0\n",
        "for i in range(1,n+1):sum = sum+i**2\n",
        "print(sum)"
      ]
    }
  ],
  "metadata": {
    "colab": {
      "provenance": [],
      "toc_visible": true
    },
    "kernelspec": {
      "display_name": "Python 3",
      "name": "python3"
    }
  },
  "nbformat": 4,
  "nbformat_minor": 0
}
