{
  "cells": [
    {
      "cell_type": "code",
      "execution_count": null,
      "metadata": {
        "id": "zwFnJsE6vjf8"
      },
      "outputs": [],
      "source": []
    },
    {
      "cell_type": "code",
      "execution_count": 49,
      "metadata": {
        "colab": {
          "base_uri": "https://localhost:8080/"
        },
        "id": "FARgk80jWsUX",
        "outputId": "b5342be6-8842-4bc4-f074-868cbce849ce"
      },
      "outputs": [
        {
          "name": "stdout",
          "output_type": "stream",
          "text": [
            "-10\n"
          ]
        }
      ],
      "source": [
        "#1st\n",
        "def difference(n):\n",
        "  if n<=17:\n",
        "    return 17-n\n",
        "  else:\n",
        "   return (17-n)*2\n",
        "print(difference(22))"
      ]
    },
    {
      "cell_type": "code",
      "execution_count": 52,
      "metadata": {
        "colab": {
          "base_uri": "https://localhost:8080/"
        },
        "id": "OcEiTzpfW1st",
        "outputId": "bcded9ef-cfbd-4ecd-b36d-2df173de457b"
      },
      "outputs": [
        {
          "name": "stdout",
          "output_type": "stream",
          "text": [
            "True\n",
            "False\n"
          ]
        }
      ],
      "source": [
        "\n",
        "# 2. Test if a number is within 100 to 1000 or 2000:\n",
        "def test_range(n):\n",
        "    if 100 <= n <= 1000 or n == 2000:\n",
        "        return True\n",
        "    else:\n",
        "        return False\n",
        "\n",
        "print(test_range(540))\n",
        "print(test_range(1503))\n"
      ]
    },
    {
      "cell_type": "code",
      "execution_count": 53,
      "metadata": {
        "colab": {
          "base_uri": "https://localhost:8080/"
        },
        "id": "PAJ9YaPZYkER",
        "outputId": "4f13773f-ea75-4c59-e1a3-243066877718"
      },
      "outputs": [
        {
          "name": "stdout",
          "output_type": "stream",
          "text": [
            "olleh\n"
          ]
        }
      ],
      "source": [
        "#3. Reverse a string:\n",
        "\n",
        "def reverse_string(s):\n",
        "    reversed_str = \"\"\n",
        "    for char in s:\n",
        "        reversed_str = char + reversed_str\n",
        "    return reversed_str\n",
        "\n",
        "print(reverse_string(\"hello\"))\n",
        "\n"
      ]
    },
    {
      "cell_type": "code",
      "execution_count": 56,
      "metadata": {
        "colab": {
          "base_uri": "https://localhost:8080/"
        },
        "id": "iDXgLQ36ZlbN",
        "outputId": "aac80208-1fef-4146-d203-e16454bc53b2"
      },
      "outputs": [
        {
          "name": "stdout",
          "output_type": "stream",
          "text": [
            "uppercase = 2 lowercase = 15\n"
          ]
        }
      ],
      "source": [
        "# 4. Count the number of upper and lower case letters:\n",
        "def count_case(s):\n",
        "    upper_count = 0\n",
        "    lower_count = 0\n",
        "    for char in s:\n",
        "        if 'A' <= char <= 'Z':\n",
        "            upper_count += 1\n",
        "        elif 'a' <= char <= 'z':\n",
        "            lower_count += 1\n",
        "    print(\"uppercase =\",upper_count , \"lowercase =\",lower_count)\n",
        "    return upper_count, lower_count\n",
        "\n",
        "upper, lower = count_case(\"PythonProgramming\")\n"
      ]
    },
    {
      "cell_type": "code",
      "execution_count": 57,
      "metadata": {
        "colab": {
          "base_uri": "https://localhost:8080/"
        },
        "id": "NVGlz9csd2Wq",
        "outputId": "e23bcb16-b965-4b37-cfdc-248142dbfcf8"
      },
      "outputs": [
        {
          "name": "stdout",
          "output_type": "stream",
          "text": [
            "[1, 2, 3, 4, 5]\n"
          ]
        }
      ],
      "source": [
        "#5. Return a list with distinct elements:\n",
        "\n",
        "def distinct_elements(lst):\n",
        "    distinct_list = []\n",
        "    for element in lst:\n",
        "        if element not in distinct_list:\n",
        "            distinct_list.append(element)\n",
        "    return distinct_list\n",
        "\n",
        "print(distinct_elements([1, 2, 2, 3, 4, 4, 5]))\n"
      ]
    },
    {
      "cell_type": "code",
      "execution_count": 59,
      "metadata": {
        "colab": {
          "base_uri": "https://localhost:8080/"
        },
        "id": "gcWAG6Zmd-O9",
        "outputId": "6380ad9b-963c-4022-a5f5-636bde974645"
      },
      "outputs": [
        {
          "name": "stdout",
          "output_type": "stream",
          "text": [
            "[2, 4, 6, 8, 10]\n"
          ]
        }
      ],
      "source": [
        "#6. Print even numbers from a list:\n",
        "\n",
        "def even_numbers(lst):\n",
        "    evens = []\n",
        "    for num in lst:\n",
        "        if num % 2 == 0:\n",
        "            evens.append(num)\n",
        "    return evens\n",
        "\n",
        "print(even_numbers([1, 2, 3, 4, 5, 6, 7, 8, 9,10]))\n"
      ]
    },
    {
      "cell_type": "code",
      "execution_count": 61,
      "metadata": {
        "colab": {
          "base_uri": "https://localhost:8080/"
        },
        "id": "FKTlDzOzeIeM",
        "outputId": "dc657e49-db4c-4994-fa2d-d95fa09c234a"
      },
      "outputs": [
        {
          "name": "stdout",
          "output_type": "stream",
          "text": [
            "the inner function!\n"
          ]
        }
      ],
      "source": [
        "# 7. Access a function inside a function:\n",
        "\n",
        "def outer_fun():\n",
        "    def inner_fun():\n",
        "        return \"the inner function!\"\n",
        "\n",
        "    return inner_fun()\n",
        "\n",
        "print(outer_fun())\n"
      ]
    },
    {
      "cell_type": "code",
      "execution_count": 63,
      "metadata": {
        "colab": {
          "base_uri": "https://localhost:8080/"
        },
        "id": "nYf7OrmKeO3F",
        "outputId": "98b41cac-fb92-43ce-e653-bb9d46afe8d3"
      },
      "outputs": [
        {
          "name": "stdout",
          "output_type": "stream",
          "text": [
            "Function argument are: ['name', 'age']\n"
          ]
        }
      ],
      "source": [
        "#8. Function attributes to display argument names:\n",
        "\n",
        "def student(name, age):\n",
        "    return\n",
        "\n",
        "student.names = ['name', 'age']\n",
        "print(\"Function argument are:\", student.names)\n"
      ]
    },
    {
      "cell_type": "code",
      "execution_count": 67,
      "metadata": {
        "colab": {
          "base_uri": "https://localhost:8080/"
        },
        "id": "62bQl412eSi3",
        "outputId": "e259e901-e690-41a3-9bee-0d41f23524f8"
      },
      "outputs": [
        {
          "name": "stdout",
          "output_type": "stream",
          "text": [
            "Student id:1\n",
            "Student name:rahul\n",
            "Student class:12th Grade\n"
          ]
        }
      ],
      "source": [
        "\n",
        "#9. Student class with new attribute:\n",
        "\n",
        "class Student:\n",
        "  def __init__(write,student_id,student_name,student_class):\n",
        "    write.student_id=student_id\n",
        "    write.student_name=student_name\n",
        "    write.student_class=student_class\n",
        "  def display_attributes(write):\n",
        "    print(f\"Student id:{write.student_id}\")\n",
        "    print(f\"Student name:{write.student_name}\")\n",
        "    print(f\"Student class:{write.student_class}\")\n",
        "\n",
        "student=Student(1,\"rahul\",\"12th Grade\")\n",
        "student.display_attributes()\n"
      ]
    },
    {
      "cell_type": "code",
      "execution_count": 70,
      "metadata": {
        "colab": {
          "base_uri": "https://localhost:8080/"
        },
        "id": "WuagedDedsof",
        "outputId": "1d0c4c0e-34be-45dd-e199-deb7a6e40569"
      },
      "outputs": [
        {
          "name": "stdout",
          "output_type": "stream",
          "text": [
            "Student1 - ID: 1, Name: Rahul, Class: 12th  Grade\n",
            "Student2 - ID: 2, Name: Karan, Class: 10th Grade\n"
          ]
        }
      ],
      "source": [
        "#10. Student instances with attributes:\n",
        "\n",
        "class Student:\n",
        "  def __init__(write,student_id,student_name,student_class):\n",
        "    write.student_id=student_id\n",
        "    write.student_name=student_name\n",
        "    write.student_class=student_class\n",
        "\n",
        "student1=Student(1,\"Rahul\",\"12th  Grade\")\n",
        "student2=Student(2,\"Karan\",\"10th Grade\")\n",
        "\n",
        "print(f\"Student1 - ID: {student1.student_id}, Name: {student1.student_name}, Class: {student1.student_class}\")\n",
        "print(f\"Student2 - ID: {student2.student_id}, Name: {student2.student_name}, Class: {student2.student_class}\")\n"
      ]
    },
    {
      "cell_type": "code",
      "execution_count": 73,
      "metadata": {
        "colab": {
          "base_uri": "https://localhost:8080/"
        },
        "id": "ftOlY92Tf0e4",
        "outputId": "c725ed0d-ac07-4275-d79e-5d9b1ea49daa"
      },
      "outputs": [
        {
          "name": "stdout",
          "output_type": "stream",
          "text": [
            "The Area is:113.09733552923255\n",
            "The Perimeter is:37.69911184307752\n"
          ]
        }
      ],
      "source": [
        "#11. Circle class to compute area and perimeter:\n",
        "\n",
        "import math\n",
        "\n",
        "class Circle:\n",
        "  def __init__(write,radius):\n",
        "    write.radius=radius\n",
        "  def area(write):\n",
        "    return math.pi*(write.radius**2)\n",
        "  def perimeter(write):\n",
        "    return 2*math.pi*write.radius\n",
        "\n",
        "circle1=Circle(6)\n",
        "print(f\"The Area is:{circle1.area()}\")\n",
        "print(f\"The Perimeter is:{circle1.perimeter()}\")"
      ]
    },
    {
      "cell_type": "code",
      "execution_count": 74,
      "metadata": {
        "colab": {
          "base_uri": "https://localhost:8080/"
        },
        "id": "aa_1ShzMgKou",
        "outputId": "cee62715-a89a-4f5d-8ae9-64f7a4f7bbc5"
      },
      "outputs": [
        {
          "name": "stdout",
          "output_type": "stream",
          "text": [
            "Enter a string:i am learning python\n",
            "I AM LEARNING PYTHON\n"
          ]
        }
      ],
      "source": [
        "#12th  Class with methods to get and print a string:\n",
        "\n",
        "class StringChange:\n",
        "  def __init__(write):\n",
        "    write.input_string=\"\"\n",
        "  def get_string(write):\n",
        "    write.input_string=input(\"Enter a string:\")\n",
        "  def print_string(write):\n",
        "    print(write.input_string.upper())\n",
        "str_change=StringChange()\n",
        "str_change.get_string()\n",
        "str_change.print_string()"
      ]
    }
  ],
  "metadata": {
    "colab": {
      "name": "Welcome To Colab",
      "provenance": [],
      "toc_visible": true
    },
    "kernelspec": {
      "display_name": "Python 3",
      "name": "python3"
    }
  },
  "nbformat": 4,
  "nbformat_minor": 0
}
